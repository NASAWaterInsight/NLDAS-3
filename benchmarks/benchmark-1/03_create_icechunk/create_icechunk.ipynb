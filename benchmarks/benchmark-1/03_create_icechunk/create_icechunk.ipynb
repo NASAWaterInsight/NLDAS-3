{
 "cells": [
  {
   "cell_type": "code",
   "execution_count": 3,
   "id": "28b31628-5535-45a6-bf97-ba0a7568a8f7",
   "metadata": {},
   "outputs": [],
   "source": [
    "import concurrent.futures\n",
    "import json\n",
    "import xarray as xr\n",
    "\n",
    "import sys\n",
    "sys.path.append(\"..\")\n",
    "import helpers"
   ]
  },
  {
   "cell_type": "code",
   "execution_count": 10,
   "id": "3a7b00f6-1912-42ea-941e-db1ec5a97a47",
   "metadata": {},
   "outputs": [],
   "source": [
    "%%capture\n",
    "!pip install virtualizarr"
   ]
  },
  {
   "cell_type": "code",
   "execution_count": 11,
   "id": "a30cf464-3cab-4270-a461-12547c96dd0b",
   "metadata": {},
   "outputs": [],
   "source": [
    "import virtualizarr"
   ]
  },
  {
   "cell_type": "code",
   "execution_count": 4,
   "id": "3b6f0244-b7ca-4363-ab37-d77841635822",
   "metadata": {},
   "outputs": [],
   "source": [
    "bucket = 'nasa-eodc-scratch'\n",
    "timechunks = '06'\n",
    "directory = f'NLDAS/netcdf/.timechunk{timechunks}'\n",
    "num_workers = 16"
   ]
  },
  {
   "cell_type": "code",
   "execution_count": 5,
   "id": "75ea3ec5-4f00-4917-97cb-8347813a20d7",
   "metadata": {},
   "outputs": [
    {
     "data": {
      "text/plain": [
       "<s3fs.core.S3FileSystem at 0x7faf54e07650>"
      ]
     },
     "execution_count": 5,
     "metadata": {},
     "output_type": "execute_result"
    }
   ],
   "source": [
    "credentials = helpers.get_credentials()\n",
    "s3fsfs = helpers.create_s3filesystem(credentials)\n",
    "s3fsfs"
   ]
  },
  {
   "cell_type": "code",
   "execution_count": 6,
   "id": "b86d4d8c-5bc7-4aa1-b94d-44fd2d60f9af",
   "metadata": {},
   "outputs": [],
   "source": [
    "files = s3fsfs.glob(f's3://{bucket}/{directory}/*.nc')"
   ]
  },
  {
   "cell_type": "code",
   "execution_count": 12,
   "id": "aca9ecb5-ca77-4193-8c4e-9fd218fe3aad",
   "metadata": {},
   "outputs": [
    {
     "data": {
      "text/plain": [
       "31"
      ]
     },
     "execution_count": 12,
     "metadata": {},
     "output_type": "execute_result"
    }
   ],
   "source": [
    "len(files)"
   ]
  },
  {
   "cell_type": "code",
   "execution_count": null,
   "id": "586cf948-7e6f-430f-8603-a52ffccb0766",
   "metadata": {},
   "outputs": [],
   "source": [
    "%%time\n",
    "stac_items = []\n",
    "\n",
    "storage_options = {\n",
    "    #\"remote_protocol\": \"s3\",\n",
    "    #\"remote_options\": {\n",
    "    \"anon\": False,\n",
    "    \"key\": credentials['AccessKeyId'],\n",
    "    \"secret\": credentials['SecretAccessKey'],\n",
    "    \"token\": credentials['SessionToken']\n",
    "}\n",
    "def open_virtual_dataset(file: str):\n",
    "    return virtualizarr.open_virtual_dataset(f's3://{file}', reader_options={'storage_options': storage_options})\n",
    "\n",
    "# with concurrent.futures.ThreadPoolExecutor(max_workers=num_workers) as executor:\n",
    "#     stac_items = list(executor.map(open_and_generate_stac, files))\n",
    "open_virtual_dataset(files[0])"
   ]
  }
 ],
 "metadata": {
  "kernelspec": {
   "display_name": "Python 3 (ipykernel)",
   "language": "python",
   "name": "python3"
  },
  "language_info": {
   "codemirror_mode": {
    "name": "ipython",
    "version": 3
   },
   "file_extension": ".py",
   "mimetype": "text/x-python",
   "name": "python",
   "nbconvert_exporter": "python",
   "pygments_lexer": "ipython3",
   "version": "3.12.7"
  }
 },
 "nbformat": 4,
 "nbformat_minor": 5
}
