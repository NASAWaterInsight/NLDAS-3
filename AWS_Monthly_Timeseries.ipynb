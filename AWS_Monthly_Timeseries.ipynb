{
 "cells": [
  {
   "cell_type": "code",
   "execution_count": 1,
   "id": "e8916784-3d8c-4711-8486-baf8aa8534b7",
   "metadata": {
    "tags": []
   },
   "outputs": [],
   "source": [
    "import xarray as xr\n",
    "import os\n",
    "import copy\n",
    "import numpy as np\n",
    "import matplotlib.pyplot as plt\n",
    "import s3fs"
   ]
  },
  {
   "cell_type": "code",
   "execution_count": 2,
   "id": "c822c542-a385-427a-af20-6225d857616b",
   "metadata": {
    "tags": []
   },
   "outputs": [],
   "source": [
    "url = 's3://nasa-waterinsight/test/NLDAS3_Forcing/201501/NLDAS_FOR0010_H.A20150101.030.beta.nc'\n",
    "s3 = s3fs.S3FileSystem({'anon':True})\n",
    "files = s3.ls('nasa-waterinsight/test/NLDAS3_Forcing/201501/')"
   ]
  },
  {
   "cell_type": "code",
   "execution_count": 3,
   "id": "e7bab5df-5a72-4532-9c84-ba163cef1c3c",
   "metadata": {
    "tags": []
   },
   "outputs": [
    {
     "name": "stdout",
     "output_type": "stream",
     "text": [
      "opening nasa-waterinsight/test/NLDAS3_Forcing/201501/NLDAS_FOR0010_H.A20150101.030.beta.nc\n",
      "20150101\n",
      "Value: 270.13428\n",
      "done\n",
      "opening nasa-waterinsight/test/NLDAS3_Forcing/201501/NLDAS_FOR0010_H.A20150102.030.beta.nc\n",
      "20150102\n",
      "Value: 257.31543\n",
      "done\n",
      "opening nasa-waterinsight/test/NLDAS3_Forcing/201501/NLDAS_FOR0010_H.A20150103.030.beta.nc\n",
      "20150103\n",
      "Value: 251.38951\n",
      "done\n",
      "opening nasa-waterinsight/test/NLDAS3_Forcing/201501/NLDAS_FOR0010_H.A20150104.030.beta.nc\n",
      "20150104\n",
      "Value: 245.42076\n",
      "done\n",
      "opening nasa-waterinsight/test/NLDAS3_Forcing/201501/NLDAS_FOR0010_H.A20150105.030.beta.nc\n",
      "20150105\n",
      "Value: 247.29474\n",
      "done\n",
      "opening nasa-waterinsight/test/NLDAS3_Forcing/201501/NLDAS_FOR0010_H.A20150106.030.beta.nc\n",
      "20150106\n",
      "Value: 249.51909\n",
      "done\n",
      "opening nasa-waterinsight/test/NLDAS3_Forcing/201501/NLDAS_FOR0010_H.A20150107.030.beta.nc\n",
      "20150107\n",
      "Value: 253.47263\n",
      "done\n",
      "opening nasa-waterinsight/test/NLDAS3_Forcing/201501/NLDAS_FOR0010_H.A20150108.030.beta.nc\n",
      "20150108\n",
      "Value: 254.76765\n",
      "done\n",
      "opening nasa-waterinsight/test/NLDAS3_Forcing/201501/NLDAS_FOR0010_H.A20150109.030.beta.nc\n",
      "20150109\n",
      "Value: 244.57253\n",
      "done\n",
      "opening nasa-waterinsight/test/NLDAS3_Forcing/201501/NLDAS_FOR0010_H.A20150110.030.beta.nc\n",
      "20150110\n",
      "Value: 257.86487\n",
      "done\n",
      "opening nasa-waterinsight/test/NLDAS3_Forcing/201501/NLDAS_FOR0010_H.A20150111.030.beta.nc\n",
      "20150111\n",
      "Value: 253.2016\n",
      "done\n",
      "opening nasa-waterinsight/test/NLDAS3_Forcing/201501/NLDAS_FOR0010_H.A20150112.030.beta.nc\n",
      "20150112\n",
      "Value: 257.45282\n",
      "done\n",
      "opening nasa-waterinsight/test/NLDAS3_Forcing/201501/NLDAS_FOR0010_H.A20150113.030.beta.nc\n",
      "20150113\n",
      "Value: 262.4424\n",
      "done\n",
      "opening nasa-waterinsight/test/NLDAS3_Forcing/201501/NLDAS_FOR0010_H.A20150114.030.beta.nc\n",
      "20150114\n",
      "Value: 270.8747\n",
      "done\n",
      "opening nasa-waterinsight/test/NLDAS3_Forcing/201501/NLDAS_FOR0010_H.A20150115.030.beta.nc\n",
      "20150115\n",
      "Value: 270.514\n",
      "done\n",
      "opening nasa-waterinsight/test/NLDAS3_Forcing/201501/NLDAS_FOR0010_H.A20150116.030.beta.nc\n",
      "20150116\n",
      "Value: 266.598\n",
      "done\n",
      "opening nasa-waterinsight/test/NLDAS3_Forcing/201501/NLDAS_FOR0010_H.A20150117.030.beta.nc\n",
      "20150117\n",
      "Value: 269.0151\n",
      "done\n",
      "opening nasa-waterinsight/test/NLDAS3_Forcing/201501/NLDAS_FOR0010_H.A20150118.030.beta.nc\n",
      "20150118\n",
      "Value: 268.55835\n",
      "done\n",
      "opening nasa-waterinsight/test/NLDAS3_Forcing/201501/NLDAS_FOR0010_H.A20150119.030.beta.nc\n",
      "20150119\n",
      "Value: 267.46732\n",
      "done\n",
      "opening nasa-waterinsight/test/NLDAS3_Forcing/201501/NLDAS_FOR0010_H.A20150120.030.beta.nc\n",
      "20150120\n",
      "Value: 269.39322\n",
      "done\n",
      "opening nasa-waterinsight/test/NLDAS3_Forcing/201501/NLDAS_FOR0010_H.A20150121.030.beta.nc\n",
      "20150121\n",
      "Value: 264.07547\n",
      "done\n",
      "opening nasa-waterinsight/test/NLDAS3_Forcing/201501/NLDAS_FOR0010_H.A20150122.030.beta.nc\n",
      "20150122\n",
      "Value: 273.2418\n",
      "done\n",
      "opening nasa-waterinsight/test/NLDAS3_Forcing/201501/NLDAS_FOR0010_H.A20150123.030.beta.nc\n",
      "20150123\n",
      "Value: 273.28174\n",
      "done\n",
      "opening nasa-waterinsight/test/NLDAS3_Forcing/201501/NLDAS_FOR0010_H.A20150124.030.beta.nc\n",
      "20150124\n",
      "Value: 272.99103\n",
      "done\n",
      "opening nasa-waterinsight/test/NLDAS3_Forcing/201501/NLDAS_FOR0010_H.A20150125.030.beta.nc\n",
      "20150125\n",
      "Value: 271.32043\n",
      "done\n",
      "opening nasa-waterinsight/test/NLDAS3_Forcing/201501/NLDAS_FOR0010_H.A20150126.030.beta.nc\n",
      "20150126\n",
      "Value: 272.5529\n",
      "done\n",
      "opening nasa-waterinsight/test/NLDAS3_Forcing/201501/NLDAS_FOR0010_H.A20150127.030.beta.nc\n",
      "20150127\n",
      "Value: 269.41306\n",
      "done\n",
      "opening nasa-waterinsight/test/NLDAS3_Forcing/201501/NLDAS_FOR0010_H.A20150128.030.beta.nc\n",
      "20150128\n",
      "Value: 259.17664\n",
      "done\n",
      "opening nasa-waterinsight/test/NLDAS3_Forcing/201501/NLDAS_FOR0010_H.A20150129.030.beta.nc\n",
      "20150129\n",
      "Value: 256.1328\n",
      "done\n",
      "opening nasa-waterinsight/test/NLDAS3_Forcing/201501/NLDAS_FOR0010_H.A20150130.030.beta.nc\n",
      "20150130\n",
      "Value: 264.3338\n",
      "done\n",
      "opening nasa-waterinsight/test/NLDAS3_Forcing/201501/NLDAS_FOR0010_H.A20150131.030.beta.nc\n",
      "20150131\n",
      "Value: 255.6955\n",
      "done\n"
     ]
    }
   ],
   "source": [
    "ns = 5000\n",
    "ew = 5000\n",
    "datapoints = []\n",
    "dates = []\n",
    "var = 'Tair'\n",
    "for file in files:\n",
    "    with s3.open(file) as infile:\n",
    "        date = file[-20:-12]\n",
    "        dates.append(date)\n",
    "        print(\"opening\", file)\n",
    "        ds = xr.open_dataset(infile, engine=\"h5netcdf\")[var]\n",
    "        print(date)\n",
    "        print('Value:', ds.isel(time=0, lon=ew, lat=ns).to_numpy())\n",
    "        datapoints.append(ds.isel(time=0, lon=ew, lat=ns).to_numpy())\n",
    "        #print(datapoints)\n",
    "        print(\"done\")"
   ]
  },
  {
   "cell_type": "code",
   "execution_count": 4,
   "id": "a57ef86f-59da-4539-bea9-c16765c060c3",
   "metadata": {
    "tags": []
   },
   "outputs": [
    {
     "data": {
      "text/plain": [
       "[array(270.13428, dtype=float32),\n",
       " array(257.31543, dtype=float32),\n",
       " array(251.38951, dtype=float32),\n",
       " array(245.42076, dtype=float32),\n",
       " array(247.29474, dtype=float32),\n",
       " array(249.51909, dtype=float32),\n",
       " array(253.47263, dtype=float32),\n",
       " array(254.76765, dtype=float32),\n",
       " array(244.57253, dtype=float32),\n",
       " array(257.86487, dtype=float32),\n",
       " array(253.2016, dtype=float32),\n",
       " array(257.45282, dtype=float32),\n",
       " array(262.4424, dtype=float32),\n",
       " array(270.8747, dtype=float32),\n",
       " array(270.514, dtype=float32),\n",
       " array(266.598, dtype=float32),\n",
       " array(269.0151, dtype=float32),\n",
       " array(268.55835, dtype=float32),\n",
       " array(267.46732, dtype=float32),\n",
       " array(269.39322, dtype=float32),\n",
       " array(264.07547, dtype=float32),\n",
       " array(273.2418, dtype=float32),\n",
       " array(273.28174, dtype=float32),\n",
       " array(272.99103, dtype=float32),\n",
       " array(271.32043, dtype=float32),\n",
       " array(272.5529, dtype=float32),\n",
       " array(269.41306, dtype=float32),\n",
       " array(259.17664, dtype=float32),\n",
       " array(256.1328, dtype=float32),\n",
       " array(264.3338, dtype=float32),\n",
       " array(255.6955, dtype=float32)]"
      ]
     },
     "execution_count": 4,
     "metadata": {},
     "output_type": "execute_result"
    }
   ],
   "source": [
    "datapoints"
   ]
  },
  {
   "cell_type": "code",
   "execution_count": 5,
   "id": "f861674b-2f1e-46d0-816b-6a0a14add765",
   "metadata": {
    "tags": []
   },
   "outputs": [
    {
     "data": {
      "text/plain": [
       "Text(0, 0.5, 'Air Temp. (K)')"
      ]
     },
     "execution_count": 5,
     "metadata": {},
     "output_type": "execute_result"
    },
    {
     "data": {
      "image/png": "[encoded data removed]",
      "text/plain": [
       "<Figure size 640x480 with 1 Axes>"
      ]
     },
     "metadata": {},
     "output_type": "display_data"
    }
   ],
   "source": [
    "plt.plot(dates, datapoints)\n",
    "plt.title(var + ' from ' + dates[0] + ' to ' + dates[-1])\n",
    "plt.xticks(rotation=90)\n",
    "plt.xlabel('Month')\n",
    "plt.ylabel('Air Temp. (K)')"
   ]
  },
  {
   "cell_type": "code",
   "execution_count": null,
   "id": "11876b76-9cd4-4635-bc1b-813ab12abf7e",
   "metadata": {},
   "outputs": [],
   "source": []
  }
 ],
 "metadata": {
  "kernelspec": {
   "display_name": "Python 3 (ipykernel)",
   "language": "python",
   "name": "python3"
  },
  "language_info": {
   "codemirror_mode": {
    "name": "ipython",
    "version": 3
   },
   "file_extension": ".py",
   "mimetype": "text/x-python",
   "name": "python",
   "nbconvert_exporter": "python",
   "pygments_lexer": "ipython3",
   "version": "3.10.10"
  }
 },
 "nbformat": 4,
 "nbformat_minor": 5
}
